{
 "cells": [
  {
   "cell_type": "code",
   "execution_count": 1,
   "metadata": {
    "execution": {
     "iopub.execute_input": "2022-11-09T02:49:06.003048Z",
     "iopub.status.busy": "2022-11-09T02:49:06.002724Z",
     "iopub.status.idle": "2022-11-09T02:49:06.970592Z",
     "shell.execute_reply": "2022-11-09T02:49:06.970036Z",
     "shell.execute_reply.started": "2022-11-09T02:49:06.002981Z"
    },
    "tags": []
   },
   "outputs": [],
   "source": [
    "import numpy as np\n",
    "\n",
    "import pandas as pd\n",
    "\n",
    "import matplotlib.pyplot as plt\n",
    "%matplotlib inline"
   ]
  },
  {
   "cell_type": "code",
   "execution_count": 2,
   "metadata": {
    "execution": {
     "iopub.execute_input": "2022-11-09T02:49:09.752144Z",
     "iopub.status.busy": "2022-11-09T02:49:09.751849Z",
     "iopub.status.idle": "2022-11-09T02:49:38.034516Z",
     "shell.execute_reply": "2022-11-09T02:49:38.033714Z",
     "shell.execute_reply.started": "2022-11-09T02:49:09.752122Z"
    },
    "scrolled": true,
    "tags": []
   },
   "outputs": [
    {
     "name": "stdout",
     "output_type": "stream",
     "text": [
      "Requirement already satisfied: tensorflow in c:\\users\\odiaka\\miniconda3\\lib\\site-packages (2.11.0)\n",
      "Requirement already satisfied: tensorflow-intel==2.11.0 in c:\\users\\odiaka\\miniconda3\\lib\\site-packages (from tensorflow) (2.11.0)\n",
      "Requirement already satisfied: libclang>=13.0.0 in c:\\users\\odiaka\\miniconda3\\lib\\site-packages (from tensorflow-intel==2.11.0->tensorflow) (14.0.6)\n",
      "Requirement already satisfied: astunparse>=1.6.0 in c:\\users\\odiaka\\miniconda3\\lib\\site-packages (from tensorflow-intel==2.11.0->tensorflow) (1.6.3)\n",
      "Requirement already satisfied: numpy>=1.20 in c:\\users\\odiaka\\miniconda3\\lib\\site-packages (from tensorflow-intel==2.11.0->tensorflow) (1.23.4)\n",
      "Requirement already satisfied: tensorflow-estimator<2.12,>=2.11.0 in c:\\users\\odiaka\\miniconda3\\lib\\site-packages (from tensorflow-intel==2.11.0->tensorflow) (2.11.0)\n",
      "Requirement already satisfied: setuptools in c:\\users\\odiaka\\miniconda3\\lib\\site-packages (from tensorflow-intel==2.11.0->tensorflow) (61.2.0)\n",
      "Requirement already satisfied: keras<2.12,>=2.11.0 in c:\\users\\odiaka\\miniconda3\\lib\\site-packages (from tensorflow-intel==2.11.0->tensorflow) (2.11.0)\n",
      "Requirement already satisfied: gast<=0.4.0,>=0.2.1 in c:\\users\\odiaka\\miniconda3\\lib\\site-packages (from tensorflow-intel==2.11.0->tensorflow) (0.4.0)\n",
      "Requirement already satisfied: h5py>=2.9.0 in c:\\users\\odiaka\\miniconda3\\lib\\site-packages (from tensorflow-intel==2.11.0->tensorflow) (3.7.0)\n",
      "Requirement already satisfied: protobuf<3.20,>=3.9.2 in c:\\users\\odiaka\\miniconda3\\lib\\site-packages (from tensorflow-intel==2.11.0->tensorflow) (3.19.6)\n",
      "Requirement already satisfied: flatbuffers>=2.0 in c:\\users\\odiaka\\miniconda3\\lib\\site-packages (from tensorflow-intel==2.11.0->tensorflow) (22.10.26)\n",
      "Requirement already satisfied: absl-py>=1.0.0 in c:\\users\\odiaka\\miniconda3\\lib\\site-packages (from tensorflow-intel==2.11.0->tensorflow) (1.3.0)\n",
      "Requirement already satisfied: tensorflow-io-gcs-filesystem>=0.23.1 in c:\\users\\odiaka\\miniconda3\\lib\\site-packages (from tensorflow-intel==2.11.0->tensorflow) (0.27.0)\n",
      "Requirement already satisfied: google-pasta>=0.1.1 in c:\\users\\odiaka\\miniconda3\\lib\\site-packages (from tensorflow-intel==2.11.0->tensorflow) (0.2.0)\n",
      "Requirement already satisfied: wrapt>=1.11.0 in c:\\users\\odiaka\\miniconda3\\lib\\site-packages (from tensorflow-intel==2.11.0->tensorflow) (1.14.1)\n",
      "Requirement already satisfied: opt-einsum>=2.3.2 in c:\\users\\odiaka\\miniconda3\\lib\\site-packages (from tensorflow-intel==2.11.0->tensorflow) (3.3.0)\n",
      "Requirement already satisfied: packaging in c:\\users\\odiaka\\miniconda3\\lib\\site-packages (from tensorflow-intel==2.11.0->tensorflow) (21.3)\n",
      "Requirement already satisfied: typing-extensions>=3.6.6 in c:\\users\\odiaka\\miniconda3\\lib\\site-packages (from tensorflow-intel==2.11.0->tensorflow) (4.4.0)\n",
      "Requirement already satisfied: termcolor>=1.1.0 in c:\\users\\odiaka\\miniconda3\\lib\\site-packages (from tensorflow-intel==2.11.0->tensorflow) (2.1.0)\n",
      "Requirement already satisfied: grpcio<2.0,>=1.24.3 in c:\\users\\odiaka\\miniconda3\\lib\\site-packages (from tensorflow-intel==2.11.0->tensorflow) (1.42.0)\n",
      "Requirement already satisfied: six>=1.12.0 in c:\\users\\odiaka\\miniconda3\\lib\\site-packages (from tensorflow-intel==2.11.0->tensorflow) (1.16.0)\n",
      "Requirement already satisfied: tensorboard<2.12,>=2.11 in c:\\users\\odiaka\\miniconda3\\lib\\site-packages (from tensorflow-intel==2.11.0->tensorflow) (2.11.0)\n",
      "Requirement already satisfied: wheel<1.0,>=0.23.0 in c:\\users\\odiaka\\miniconda3\\lib\\site-packages (from astunparse>=1.6.0->tensorflow-intel==2.11.0->tensorflow) (0.37.1)\n",
      "Requirement already satisfied: werkzeug>=1.0.1 in c:\\users\\odiaka\\miniconda3\\lib\\site-packages (from tensorboard<2.12,>=2.11->tensorflow-intel==2.11.0->tensorflow) (2.2.2)\n",
      "Requirement already satisfied: google-auth<3,>=1.6.3 in c:\\users\\odiaka\\miniconda3\\lib\\site-packages (from tensorboard<2.12,>=2.11->tensorflow-intel==2.11.0->tensorflow) (2.13.0)\n",
      "Requirement already satisfied: markdown>=2.6.8 in c:\\users\\odiaka\\miniconda3\\lib\\site-packages (from tensorboard<2.12,>=2.11->tensorflow-intel==2.11.0->tensorflow) (3.4.1)\n",
      "Requirement already satisfied: requests<3,>=2.21.0 in c:\\users\\odiaka\\miniconda3\\lib\\site-packages (from tensorboard<2.12,>=2.11->tensorflow-intel==2.11.0->tensorflow) (2.27.1)\n",
      "Requirement already satisfied: google-auth-oauthlib<0.5,>=0.4.1 in c:\\users\\odiaka\\miniconda3\\lib\\site-packages (from tensorboard<2.12,>=2.11->tensorflow-intel==2.11.0->tensorflow) (0.4.6)\n",
      "Requirement already satisfied: tensorboard-data-server<0.7.0,>=0.6.0 in c:\\users\\odiaka\\miniconda3\\lib\\site-packages (from tensorboard<2.12,>=2.11->tensorflow-intel==2.11.0->tensorflow) (0.6.1)\n",
      "Requirement already satisfied: tensorboard-plugin-wit>=1.6.0 in c:\\users\\odiaka\\miniconda3\\lib\\site-packages (from tensorboard<2.12,>=2.11->tensorflow-intel==2.11.0->tensorflow) (1.8.1)\n",
      "Requirement already satisfied: pyparsing!=3.0.5,>=2.0.2 in c:\\users\\odiaka\\miniconda3\\lib\\site-packages (from packaging->tensorflow-intel==2.11.0->tensorflow) (3.0.9)\n",
      "Requirement already satisfied: cachetools<6.0,>=2.0.0 in c:\\users\\odiaka\\miniconda3\\lib\\site-packages (from google-auth<3,>=1.6.3->tensorboard<2.12,>=2.11->tensorflow-intel==2.11.0->tensorflow) (5.2.0)\n",
      "Requirement already satisfied: rsa<5,>=3.1.4 in c:\\users\\odiaka\\miniconda3\\lib\\site-packages (from google-auth<3,>=1.6.3->tensorboard<2.12,>=2.11->tensorflow-intel==2.11.0->tensorflow) (4.7.2)\n",
      "Requirement already satisfied: pyasn1-modules>=0.2.1 in c:\\users\\odiaka\\miniconda3\\lib\\site-packages (from google-auth<3,>=1.6.3->tensorboard<2.12,>=2.11->tensorflow-intel==2.11.0->tensorflow) (0.2.8)\n",
      "Requirement already satisfied: requests-oauthlib>=0.7.0 in c:\\users\\odiaka\\miniconda3\\lib\\site-packages (from google-auth-oauthlib<0.5,>=0.4.1->tensorboard<2.12,>=2.11->tensorflow-intel==2.11.0->tensorflow) (1.3.1)\n",
      "Requirement already satisfied: importlib-metadata>=4.4 in c:\\users\\odiaka\\miniconda3\\lib\\site-packages (from markdown>=2.6.8->tensorboard<2.12,>=2.11->tensorflow-intel==2.11.0->tensorflow) (5.0.0)\n",
      "Requirement already satisfied: urllib3<1.27,>=1.21.1 in c:\\users\\odiaka\\miniconda3\\lib\\site-packages (from requests<3,>=2.21.0->tensorboard<2.12,>=2.11->tensorflow-intel==2.11.0->tensorflow) (1.26.8)\n",
      "Requirement already satisfied: charset-normalizer~=2.0.0 in c:\\users\\odiaka\\miniconda3\\lib\\site-packages (from requests<3,>=2.21.0->tensorboard<2.12,>=2.11->tensorflow-intel==2.11.0->tensorflow) (2.0.4)\n",
      "Requirement already satisfied: idna<4,>=2.5 in c:\\users\\odiaka\\miniconda3\\lib\\site-packages (from requests<3,>=2.21.0->tensorboard<2.12,>=2.11->tensorflow-intel==2.11.0->tensorflow) (3.3)\n",
      "Requirement already satisfied: certifi>=2017.4.17 in c:\\users\\odiaka\\miniconda3\\lib\\site-packages (from requests<3,>=2.21.0->tensorboard<2.12,>=2.11->tensorflow-intel==2.11.0->tensorflow) (2022.9.24)\n",
      "Requirement already satisfied: MarkupSafe>=2.1.1 in c:\\users\\odiaka\\miniconda3\\lib\\site-packages (from werkzeug>=1.0.1->tensorboard<2.12,>=2.11->tensorflow-intel==2.11.0->tensorflow) (2.1.1)\n",
      "Requirement already satisfied: zipp>=0.5 in c:\\users\\odiaka\\miniconda3\\lib\\site-packages (from importlib-metadata>=4.4->markdown>=2.6.8->tensorboard<2.12,>=2.11->tensorflow-intel==2.11.0->tensorflow) (3.9.0)\n",
      "Requirement already satisfied: pyasn1<0.5.0,>=0.4.6 in c:\\users\\odiaka\\miniconda3\\lib\\site-packages (from pyasn1-modules>=0.2.1->google-auth<3,>=1.6.3->tensorboard<2.12,>=2.11->tensorflow-intel==2.11.0->tensorflow) (0.4.8)\n",
      "Requirement already satisfied: oauthlib>=3.0.0 in c:\\users\\odiaka\\miniconda3\\lib\\site-packages (from requests-oauthlib>=0.7.0->google-auth-oauthlib<0.5,>=0.4.1->tensorboard<2.12,>=2.11->tensorflow-intel==2.11.0->tensorflow) (3.2.2)\n",
      "Note: you may need to restart the kernel to use updated packages.\n"
     ]
    }
   ],
   "source": [
    "pip install tensorflow"
   ]
  },
  {
   "cell_type": "code",
   "execution_count": 3,
   "metadata": {
    "execution": {
     "iopub.execute_input": "2022-11-09T02:49:38.036188Z",
     "iopub.status.busy": "2022-11-09T02:49:38.035902Z",
     "iopub.status.idle": "2022-11-09T02:49:39.839412Z",
     "shell.execute_reply": "2022-11-09T02:49:39.838898Z",
     "shell.execute_reply.started": "2022-11-09T02:49:38.036162Z"
    },
    "tags": []
   },
   "outputs": [],
   "source": [
    "import tensorflow as tf\n",
    "from tensorflow import keras"
   ]
  },
  {
   "cell_type": "markdown",
   "metadata": {},
   "source": [
    "Execute\n",
    "\n",
    "```\n",
    "git clone https://github.com/alexeygrigorev/clothing-dataset-small.git\n",
    "```\n",
    "\n",
    "to get the data"
   ]
  },
  {
   "cell_type": "markdown",
   "metadata": {},
   "source": [
    "## Transfer learning"
   ]
  },
  {
   "cell_type": "markdown",
   "metadata": {},
   "source": [
    "Instead of loading each image one-by-one, we can use a data generator. Keras will use it for loading the images and pre-processing them"
   ]
  },
  {
   "cell_type": "code",
   "execution_count": 4,
   "metadata": {
    "execution": {
     "iopub.execute_input": "2022-11-09T02:49:47.343053Z",
     "iopub.status.busy": "2022-11-09T02:49:47.342764Z",
     "iopub.status.idle": "2022-11-09T02:49:47.346193Z",
     "shell.execute_reply": "2022-11-09T02:49:47.345577Z",
     "shell.execute_reply.started": "2022-11-09T02:49:47.343030Z"
    },
    "tags": []
   },
   "outputs": [],
   "source": [
    "from tensorflow.keras.preprocessing.image import ImageDataGenerator\n",
    "from tensorflow.keras.applications.xception import preprocess_input"
   ]
  },
  {
   "cell_type": "markdown",
   "metadata": {},
   "source": [
    "We'll use smaller images - it'll be faster"
   ]
  },
  {
   "cell_type": "code",
   "execution_count": 5,
   "metadata": {
    "execution": {
     "iopub.execute_input": "2022-11-09T02:49:49.955076Z",
     "iopub.status.busy": "2022-11-09T02:49:49.954797Z",
     "iopub.status.idle": "2022-11-09T02:49:49.958197Z",
     "shell.execute_reply": "2022-11-09T02:49:49.957573Z",
     "shell.execute_reply.started": "2022-11-09T02:49:49.955053Z"
    },
    "tags": []
   },
   "outputs": [],
   "source": [
    "image_size = (150, 150)\n",
    "batch_size = 32"
   ]
  },
  {
   "cell_type": "markdown",
   "metadata": {},
   "source": [
    "Let's get train data:"
   ]
  },
  {
   "cell_type": "code",
   "execution_count": 6,
   "metadata": {
    "execution": {
     "iopub.execute_input": "2022-11-09T02:49:51.145180Z",
     "iopub.status.busy": "2022-11-09T02:49:51.144892Z",
     "iopub.status.idle": "2022-11-09T02:49:51.264139Z",
     "shell.execute_reply": "2022-11-09T02:49:51.263640Z",
     "shell.execute_reply.started": "2022-11-09T02:49:51.145157Z"
    },
    "tags": []
   },
   "outputs": [
    {
     "name": "stdout",
     "output_type": "stream",
     "text": [
      "Found 5216 images belonging to 2 classes.\n"
     ]
    }
   ],
   "source": [
    "train_gen = ImageDataGenerator(preprocessing_function=preprocess_input)\n",
    "\n",
    "train_ds = train_gen.flow_from_directory(\n",
    "    \"C:/Users/Odiaka/My_Shit/workspace/chest_xray/train\",\n",
    "    seed=1,\n",
    "    target_size=image_size,\n",
    "    batch_size=batch_size,class_mode='categorical'\n",
    ")"
   ]
  },
  {
   "cell_type": "code",
   "execution_count": 7,
   "metadata": {
    "execution": {
     "iopub.execute_input": "2022-11-09T02:49:51.974940Z",
     "iopub.status.busy": "2022-11-09T02:49:51.974660Z",
     "iopub.status.idle": "2022-11-09T02:49:51.979544Z",
     "shell.execute_reply": "2022-11-09T02:49:51.978914Z",
     "shell.execute_reply.started": "2022-11-09T02:49:51.974918Z"
    },
    "tags": []
   },
   "outputs": [
    {
     "data": {
      "text/plain": [
       "{'NORMAL': 0, 'PNEUMONIA': 1}"
      ]
     },
     "execution_count": 7,
     "metadata": {},
     "output_type": "execute_result"
    }
   ],
   "source": [
    "train_ds.class_indices"
   ]
  },
  {
   "cell_type": "markdown",
   "metadata": {},
   "source": [
    "And validation:"
   ]
  },
  {
   "cell_type": "code",
   "execution_count": 8,
   "metadata": {
    "execution": {
     "iopub.execute_input": "2022-11-09T02:49:56.005029Z",
     "iopub.status.busy": "2022-11-09T02:49:56.004749Z",
     "iopub.status.idle": "2022-11-09T02:49:56.026599Z",
     "shell.execute_reply": "2022-11-09T02:49:56.026040Z",
     "shell.execute_reply.started": "2022-11-09T02:49:56.005006Z"
    },
    "tags": []
   },
   "outputs": [
    {
     "name": "stdout",
     "output_type": "stream",
     "text": [
      "Found 656 images belonging to 2 classes.\n"
     ]
    }
   ],
   "source": [
    "validation_gen = ImageDataGenerator(preprocessing_function=preprocess_input)\n",
    "\n",
    "val_ds = validation_gen.flow_from_directory(\n",
    "    \"C:/Users/Odiaka/My_Shit/workspace/chest_xray/val\",\n",
    "    seed=1,\n",
    "    target_size=image_size,\n",
    "    batch_size=batch_size,class_mode='categorical'\n",
    ")"
   ]
  },
  {
   "cell_type": "markdown",
   "metadata": {},
   "source": [
    "For fine-tuning, we'll use `Xception` with small images (150x150)"
   ]
  },
  {
   "cell_type": "code",
   "execution_count": 9,
   "metadata": {},
   "outputs": [],
   "source": [
    "from tensorflow.keras.applications import Xception"
   ]
  },
  {
   "cell_type": "code",
   "execution_count": 10,
   "metadata": {
    "execution": {
     "iopub.execute_input": "2022-11-09T02:50:09.343125Z",
     "iopub.status.busy": "2022-11-09T02:50:09.342794Z",
     "iopub.status.idle": "2022-11-09T02:50:10.776971Z",
     "shell.execute_reply": "2022-11-09T02:50:10.776410Z",
     "shell.execute_reply.started": "2022-11-09T02:50:09.343098Z"
    },
    "tags": []
   },
   "outputs": [],
   "source": [
    "base_model = Xception(\n",
    "    weights='imagenet',\n",
    "    input_shape=(150, 150, 3),\n",
    "    include_top=False #leave out dense layers\n",
    ")\n",
    "\n",
    "base_model.trainable = False"
   ]
  },
  {
   "cell_type": "markdown",
   "metadata": {},
   "source": [
    "Let's add a small neural net on top of that: just one layer with 10 neurons (there are 10 classes we want to predict)"
   ]
  },
  {
   "cell_type": "code",
   "execution_count": 11,
   "metadata": {
    "execution": {
     "iopub.execute_input": "2022-11-08T23:58:28.020277Z",
     "iopub.status.busy": "2022-11-08T23:58:28.020033Z",
     "iopub.status.idle": "2022-11-08T23:58:28.347037Z",
     "shell.execute_reply": "2022-11-08T23:58:28.346531Z",
     "shell.execute_reply.started": "2022-11-08T23:58:28.020256Z"
    },
    "tags": []
   },
   "outputs": [],
   "source": [
    "inputs = keras.Input(shape=(150, 150, 3))\n",
    "\n",
    "base = base_model(inputs, training=False)\n",
    "vectors = keras.layers.GlobalAveragePooling2D()(base)\n",
    "outputs = keras.layers.Dense(2)(vectors)\n",
    "\n",
    "model = keras.Model(inputs, outputs)"
   ]
  },
  {
   "cell_type": "markdown",
   "metadata": {},
   "source": [
    "Now we specify the learning rate and compile the model. After that, it's ready for training"
   ]
  },
  {
   "cell_type": "markdown",
   "metadata": {},
   "source": [
    "For optimizers, binary classification = binarycrossentropy, multi class = categorical crossentropy, regression=meansquared"
   ]
  },
  {
   "cell_type": "markdown",
   "metadata": {},
   "source": [
    "If we dont assign activation in our optimizer, then from_logits is True. Otherwise, it is false."
   ]
  },
  {
   "cell_type": "code",
   "execution_count": 12,
   "metadata": {
    "execution": {
     "iopub.execute_input": "2022-11-09T02:51:39.665048Z",
     "iopub.status.busy": "2022-11-09T02:51:39.664756Z",
     "iopub.status.idle": "2022-11-09T02:51:39.670647Z",
     "shell.execute_reply": "2022-11-09T02:51:39.670041Z",
     "shell.execute_reply.started": "2022-11-09T02:51:39.665025Z"
    },
    "tags": []
   },
   "outputs": [],
   "source": [
    "def make_model(learning_rate):\n",
    "    base_model = Xception(\n",
    "        weights='imagenet',\n",
    "        input_shape=(150, 150, 3),\n",
    "        include_top=False\n",
    "    )\n",
    "\n",
    "    base_model.trainable = False\n",
    "\n",
    "    inputs = keras.Input(shape=(150, 150, 3))\n",
    "    \n",
    "    base = base_model(inputs, training=False)\n",
    "    vectors = keras.layers.GlobalAveragePooling2D()(base)\n",
    "\n",
    "\n",
    "    outputs = keras.layers.Dense(2)(vectors)\n",
    "\n",
    "    model = keras.Model(inputs, outputs)\n",
    "    \n",
    "\n",
    "    optimizer = keras.optimizers.Adam(learning_rate=learning_rate)\n",
    "\n",
    "    loss = keras.losses.CategoricalCrossentropy(from_logits=True)\n",
    "\n",
    "    model.compile(optimizer=optimizer, loss=loss, metrics=['accuracy'])\n",
    "    \n",
    "    \n",
    "    return model"
   ]
  },
  {
   "cell_type": "code",
   "execution_count": 13,
   "metadata": {},
   "outputs": [
    {
     "name": "stdout",
     "output_type": "stream",
     "text": [
      "Epoch 1/10\n",
      "163/163 [==============================] - 147s 885ms/step - loss: 0.3323 - accuracy: 0.9214 - val_loss: 0.1703 - val_accuracy: 0.9466\n",
      "Epoch 2/10\n",
      "163/163 [==============================] - 124s 759ms/step - loss: 0.1520 - accuracy: 0.9505 - val_loss: 0.1716 - val_accuracy: 0.9527\n",
      "Epoch 3/10\n",
      "163/163 [==============================] - 124s 760ms/step - loss: 0.1386 - accuracy: 0.9580 - val_loss: 0.1185 - val_accuracy: 0.9604\n",
      "Epoch 4/10\n",
      "163/163 [==============================] - 124s 758ms/step - loss: 0.1189 - accuracy: 0.9626 - val_loss: 0.1461 - val_accuracy: 0.9649\n",
      "Epoch 5/10\n",
      "163/163 [==============================] - 124s 762ms/step - loss: 0.0950 - accuracy: 0.9684 - val_loss: 0.1043 - val_accuracy: 0.9695\n",
      "Epoch 6/10\n",
      "163/163 [==============================] - 123s 757ms/step - loss: 0.1057 - accuracy: 0.9691 - val_loss: 0.1588 - val_accuracy: 0.9604\n",
      "Epoch 7/10\n",
      "163/163 [==============================] - 123s 757ms/step - loss: 0.0719 - accuracy: 0.9764 - val_loss: 0.2869 - val_accuracy: 0.9345\n",
      "Epoch 8/10\n",
      "163/163 [==============================] - 123s 753ms/step - loss: 0.0708 - accuracy: 0.9772 - val_loss: 0.2509 - val_accuracy: 0.9421\n",
      "Epoch 9/10\n",
      "163/163 [==============================] - 123s 752ms/step - loss: 0.0641 - accuracy: 0.9785 - val_loss: 0.1586 - val_accuracy: 0.9436\n",
      "Epoch 10/10\n",
      "163/163 [==============================] - 123s 754ms/step - loss: 0.0960 - accuracy: 0.9734 - val_loss: 0.1004 - val_accuracy: 0.9710\n"
     ]
    }
   ],
   "source": [
    "model = make_model(learning_rate=0.01)\n",
    "\n",
    "\n",
    "callbacks = [\n",
    "    keras.callbacks.ModelCheckpoint(\n",
    "        \"xception_v1_{epoch:02d}_{val_accuracy:.3f}.h5\",\n",
    "        monitor=\"val_accuracy\",\n",
    "        save_best_only=True,\n",
    "        mode='max'\n",
    "    )\n",
    "]\n",
    "\n",
    "\n",
    "history = model.fit(train_ds, epochs=10, validation_data=val_ds, callbacks=callbacks)"
   ]
  },
  {
   "cell_type": "markdown",
   "metadata": {},
   "source": [
    "## Tuning the Performance of the model"
   ]
  },
  {
   "cell_type": "markdown",
   "metadata": {},
   "source": [
    "### Adjusting the learning rate"
   ]
  },
  {
   "cell_type": "code",
   "execution_count": 14,
   "metadata": {
    "execution": {
     "iopub.execute_input": "2022-11-09T02:51:39.665048Z",
     "iopub.status.busy": "2022-11-09T02:51:39.664756Z",
     "iopub.status.idle": "2022-11-09T02:51:39.670647Z",
     "shell.execute_reply": "2022-11-09T02:51:39.670041Z",
     "shell.execute_reply.started": "2022-11-09T02:51:39.665025Z"
    },
    "tags": []
   },
   "outputs": [],
   "source": [
    "def make_model(learning_rate):\n",
    "    base_model = Xception(\n",
    "        weights='imagenet',\n",
    "        input_shape=(150, 150, 3),\n",
    "        include_top=False\n",
    "    )\n",
    "\n",
    "    base_model.trainable = False\n",
    "\n",
    "    inputs = keras.Input(shape=(150, 150, 3))\n",
    "    \n",
    "    base = base_model(inputs, training=False)\n",
    "    vectors = keras.layers.GlobalAveragePooling2D()(base)\n",
    "\n",
    "\n",
    "    outputs = keras.layers.Dense(2)(vectors)\n",
    "\n",
    "    model = keras.Model(inputs, outputs)\n",
    "    \n",
    "\n",
    "    optimizer = keras.optimizers.Adam(learning_rate=learning_rate)\n",
    "\n",
    "    loss = keras.losses.BinaryCrossentropy(from_logits=True)\n",
    "\n",
    "    model.compile(optimizer=optimizer, loss=loss, metrics=['accuracy'])\n",
    "    \n",
    "    \n",
    "    return model"
   ]
  },
  {
   "cell_type": "code",
   "execution_count": 15,
   "metadata": {},
   "outputs": [
    {
     "name": "stdout",
     "output_type": "stream",
     "text": [
      "Epoch 1/10\n",
      "163/163 [==============================] - 127s 763ms/step - loss: 0.4057 - accuracy: 0.8219 - val_loss: 0.3267 - val_accuracy: 0.8674\n",
      "Epoch 2/10\n",
      "163/163 [==============================] - 125s 765ms/step - loss: 0.2661 - accuracy: 0.9026 - val_loss: 0.2699 - val_accuracy: 0.8796\n",
      "Epoch 3/10\n",
      "163/163 [==============================] - 125s 765ms/step - loss: 0.2241 - accuracy: 0.9170 - val_loss: 0.2392 - val_accuracy: 0.8963\n",
      "Epoch 4/10\n",
      "163/163 [==============================] - 125s 768ms/step - loss: 0.2021 - accuracy: 0.9248 - val_loss: 0.2227 - val_accuracy: 0.9024\n",
      "Epoch 5/10\n",
      "163/163 [==============================] - 124s 762ms/step - loss: 0.1872 - accuracy: 0.9275 - val_loss: 0.2098 - val_accuracy: 0.9131\n",
      "Epoch 6/10\n",
      "163/163 [==============================] - 123s 757ms/step - loss: 0.1762 - accuracy: 0.9333 - val_loss: 0.1998 - val_accuracy: 0.9116\n",
      "Epoch 7/10\n",
      "163/163 [==============================] - 123s 756ms/step - loss: 0.1670 - accuracy: 0.9360 - val_loss: 0.1922 - val_accuracy: 0.9131\n",
      "Epoch 8/10\n",
      "163/163 [==============================] - 123s 755ms/step - loss: 0.1596 - accuracy: 0.9383 - val_loss: 0.1864 - val_accuracy: 0.9177\n",
      "Epoch 9/10\n",
      "163/163 [==============================] - 123s 755ms/step - loss: 0.1531 - accuracy: 0.9417 - val_loss: 0.1839 - val_accuracy: 0.9238\n",
      "Epoch 10/10\n",
      "163/163 [==============================] - 126s 770ms/step - loss: 0.1477 - accuracy: 0.9452 - val_loss: 0.1760 - val_accuracy: 0.9253\n",
      "Epoch 1/10\n",
      "163/163 [==============================] - 127s 766ms/step - loss: 0.2329 - accuracy: 0.9047 - val_loss: 0.1871 - val_accuracy: 0.9253\n",
      "Epoch 2/10\n",
      "163/163 [==============================] - 126s 771ms/step - loss: 0.1415 - accuracy: 0.9467 - val_loss: 0.1585 - val_accuracy: 0.9375\n",
      "Epoch 3/10\n",
      "163/163 [==============================] - 125s 767ms/step - loss: 0.1207 - accuracy: 0.9532 - val_loss: 0.1450 - val_accuracy: 0.9451\n",
      "Epoch 4/10\n",
      "163/163 [==============================] - 125s 765ms/step - loss: 0.1098 - accuracy: 0.9594 - val_loss: 0.1377 - val_accuracy: 0.9482\n",
      "Epoch 5/10\n",
      "163/163 [==============================] - 125s 767ms/step - loss: 0.1012 - accuracy: 0.9597 - val_loss: 0.1299 - val_accuracy: 0.9512\n",
      "Epoch 6/10\n",
      "163/163 [==============================] - 125s 767ms/step - loss: 0.0949 - accuracy: 0.9640 - val_loss: 0.1280 - val_accuracy: 0.9543\n",
      "Epoch 7/10\n",
      "163/163 [==============================] - 125s 765ms/step - loss: 0.0910 - accuracy: 0.9666 - val_loss: 0.1190 - val_accuracy: 0.9527\n",
      "Epoch 8/10\n",
      "163/163 [==============================] - 125s 767ms/step - loss: 0.0860 - accuracy: 0.9663 - val_loss: 0.1205 - val_accuracy: 0.9573\n",
      "Epoch 9/10\n",
      "163/163 [==============================] - 124s 761ms/step - loss: 0.0851 - accuracy: 0.9676 - val_loss: 0.1151 - val_accuracy: 0.9527\n",
      "Epoch 10/10\n",
      "163/163 [==============================] - 125s 765ms/step - loss: 0.0805 - accuracy: 0.9684 - val_loss: 0.1181 - val_accuracy: 0.9588\n",
      "Epoch 1/10\n",
      "163/163 [==============================] - 127s 765ms/step - loss: 0.2014 - accuracy: 0.9218 - val_loss: 0.1379 - val_accuracy: 0.9543\n",
      "Epoch 2/10\n",
      "163/163 [==============================] - 124s 761ms/step - loss: 0.1129 - accuracy: 0.9561 - val_loss: 0.3390 - val_accuracy: 0.8841\n",
      "Epoch 3/10\n",
      "163/163 [==============================] - 124s 761ms/step - loss: 0.1178 - accuracy: 0.9567 - val_loss: 0.1211 - val_accuracy: 0.9588\n",
      "Epoch 4/10\n",
      "163/163 [==============================] - 124s 762ms/step - loss: 0.0836 - accuracy: 0.9674 - val_loss: 0.0939 - val_accuracy: 0.9680\n",
      "Epoch 5/10\n",
      "163/163 [==============================] - 125s 764ms/step - loss: 0.0732 - accuracy: 0.9739 - val_loss: 0.0902 - val_accuracy: 0.9649\n",
      "Epoch 6/10\n",
      "163/163 [==============================] - 124s 759ms/step - loss: 0.0614 - accuracy: 0.9766 - val_loss: 0.1091 - val_accuracy: 0.9543\n",
      "Epoch 7/10\n",
      "163/163 [==============================] - 124s 763ms/step - loss: 0.0600 - accuracy: 0.9753 - val_loss: 0.0935 - val_accuracy: 0.9680\n",
      "Epoch 8/10\n",
      "163/163 [==============================] - 123s 755ms/step - loss: 0.0599 - accuracy: 0.9760 - val_loss: 0.0857 - val_accuracy: 0.9695\n",
      "Epoch 9/10\n",
      "163/163 [==============================] - 122s 748ms/step - loss: 0.0672 - accuracy: 0.9757 - val_loss: 0.1457 - val_accuracy: 0.9466\n",
      "Epoch 10/10\n",
      "163/163 [==============================] - 122s 750ms/step - loss: 0.0601 - accuracy: 0.9760 - val_loss: 0.1076 - val_accuracy: 0.9604\n",
      "Epoch 1/10\n",
      "163/163 [==============================] - 126s 760ms/step - loss: 1.8416 - accuracy: 0.9066 - val_loss: 1.2965 - val_accuracy: 0.9360\n",
      "Epoch 2/10\n",
      "163/163 [==============================] - 123s 754ms/step - loss: 0.6647 - accuracy: 0.9471 - val_loss: 1.0660 - val_accuracy: 0.9253\n",
      "Epoch 3/10\n",
      "163/163 [==============================] - 124s 757ms/step - loss: 0.6816 - accuracy: 0.9530 - val_loss: 0.8404 - val_accuracy: 0.9512\n",
      "Epoch 4/10\n",
      "163/163 [==============================] - 126s 770ms/step - loss: 0.4296 - accuracy: 0.9657 - val_loss: 0.4939 - val_accuracy: 0.9634\n",
      "Epoch 5/10\n",
      "163/163 [==============================] - 125s 768ms/step - loss: 0.5319 - accuracy: 0.9640 - val_loss: 0.5746 - val_accuracy: 0.9604\n",
      "Epoch 6/10\n",
      "163/163 [==============================] - 125s 769ms/step - loss: 0.4900 - accuracy: 0.9697 - val_loss: 0.7266 - val_accuracy: 0.9604\n",
      "Epoch 7/10\n",
      "163/163 [==============================] - 125s 768ms/step - loss: 0.4280 - accuracy: 0.9739 - val_loss: 0.6096 - val_accuracy: 0.9741\n",
      "Epoch 8/10\n",
      "163/163 [==============================] - 125s 765ms/step - loss: 0.4794 - accuracy: 0.9689 - val_loss: 0.6433 - val_accuracy: 0.9619\n",
      "Epoch 9/10\n",
      "163/163 [==============================] - 128s 784ms/step - loss: 0.4033 - accuracy: 0.9730 - val_loss: 0.6383 - val_accuracy: 0.9741\n",
      "Epoch 10/10\n",
      "163/163 [==============================] - 126s 773ms/step - loss: 0.3797 - accuracy: 0.9758 - val_loss: 0.5754 - val_accuracy: 0.9695\n"
     ]
    }
   ],
   "source": [
    "scores = {}\n",
    "\n",
    "for lr in [0.0001, 0.001, 0.01, 0.1]:\n",
    "    model = make_model(learning_rate=lr)\n",
    "\n",
    "    callbacks = [\n",
    "    keras.callbacks.ModelCheckpoint(\n",
    "        \"xception_v1_{epoch:02d}_{val_accuracy:.3f}.h5\",\n",
    "        monitor=\"val_accuracy\",\n",
    "        save_best_only=True,\n",
    "        mode='max'\n",
    "            )\n",
    "              ]\n",
    "\n",
    "    history = model.fit(train_ds, epochs=10, validation_data=val_ds, callbacks=callbacks)\n",
    "    scores[lr] = history.history"
   ]
  },
  {
   "cell_type": "code",
   "execution_count": 16,
   "metadata": {},
   "outputs": [
    {
     "data": {
      "text/plain": [
       "<matplotlib.legend.Legend at 0x22c0b717400>"
      ]
     },
     "execution_count": 16,
     "metadata": {},
     "output_type": "execute_result"
    },
    {
     "data": {
      "image/png": "[encoded data removed]",
      "text/plain": [
       "<Figure size 640x480 with 1 Axes>"
      ]
     },
     "metadata": {},
     "output_type": "display_data"
    }
   ],
   "source": [
    "for lr, hist in scores.items():\n",
    "    #plt.plot(hist['accuracy'], label=('train=%s' % lr))\n",
    "    plt.plot(hist['val_accuracy'], label=('val=%s' % lr))\n",
    "\n",
    "plt.xticks(np.arange(10))\n",
    "plt.legend()"
   ]
  },
  {
   "attachments": {},
   "cell_type": "markdown",
   "metadata": {},
   "source": [
    "Check on 0.1 and 0.01 only"
   ]
  },
  {
   "cell_type": "code",
   "execution_count": 17,
   "metadata": {},
   "outputs": [],
   "source": [
    "keys = [0.1,0.01]\n",
    "scores_interest = {x:scores[x] for x in keys}"
   ]
  },
  {
   "cell_type": "code",
   "execution_count": 26,
   "metadata": {},
   "outputs": [
    {
     "data": {
      "text/plain": [
       "<matplotlib.legend.Legend at 0x22c02c104f0>"
      ]
     },
     "execution_count": 26,
     "metadata": {},
     "output_type": "execute_result"
    },
    {
     "data": {
      "image/png": "[encoded data removed]",
      "text/plain": [
       "<Figure size 640x480 with 1 Axes>"
      ]
     },
     "metadata": {},
     "output_type": "display_data"
    }
   ],
   "source": [
    "for lr, hist in scores_interest.items():\n",
    "    #plt.plot(hist['accuracy'], label=('train=%s' % lr))\n",
    "    plt.plot(hist['val_accuracy'], label=('val=%s' % lr))\n",
    "\n",
    "plt.ylim(0.94,0.98)\n",
    "plt.xticks(np.arange(10))\n",
    "plt.legend()"
   ]
  },
  {
   "attachments": {},
   "cell_type": "markdown",
   "metadata": {},
   "source": [
    "Based on the result, we will use 0.1 for the learning rate."
   ]
  },
  {
   "cell_type": "code",
   "execution_count": 21,
   "metadata": {},
   "outputs": [],
   "source": [
    "learning_rate = 0.1"
   ]
  },
  {
   "attachments": {},
   "cell_type": "markdown",
   "metadata": {},
   "source": [
    "## Adding additional layer"
   ]
  },
  {
   "cell_type": "code",
   "execution_count": 28,
   "metadata": {},
   "outputs": [],
   "source": [
    "def make_model(learning_rate=0.1, size_inner=100):\n",
    "    base_model = Xception(\n",
    "        weights='imagenet',\n",
    "        include_top=False,\n",
    "        input_shape=(150, 150, 3)\n",
    "    )\n",
    "\n",
    "    base_model.trainable = False\n",
    "\n",
    "    #########################################\n",
    "\n",
    "    inputs = keras.Input(shape=(150, 150, 3))\n",
    "    base = base_model(inputs, training=False)\n",
    "    vectors = keras.layers.GlobalAveragePooling2D()(base)\n",
    "    \n",
    "    inner = keras.layers.Dense(size_inner, activation='relu')(vectors)\n",
    "    \n",
    "    outputs = keras.layers.Dense(2)(inner)\n",
    "    \n",
    "    model = keras.Model(inputs, outputs)\n",
    "    \n",
    "    #########################################\n",
    "\n",
    "    optimizer = keras.optimizers.Adam(learning_rate=learning_rate)\n",
    "    loss = keras.losses.CategoricalCrossentropy(from_logits=True)\n",
    "\n",
    "    model.compile(\n",
    "        optimizer=optimizer,\n",
    "        loss=loss,\n",
    "        metrics=['accuracy']\n",
    "    )\n",
    "    \n",
    "    return model"
   ]
  },
  {
   "cell_type": "code",
   "execution_count": 29,
   "metadata": {},
   "outputs": [
    {
     "name": "stdout",
     "output_type": "stream",
     "text": [
      "10\n",
      "Epoch 1/10\n",
      "163/163 [==============================] - 147s 885ms/step - loss: 1.3224 - accuracy: 0.8949 - val_loss: 0.3038 - val_accuracy: 0.8826\n",
      "Epoch 2/10\n",
      "163/163 [==============================] - 145s 891ms/step - loss: 0.1827 - accuracy: 0.9296 - val_loss: 0.1873 - val_accuracy: 0.9345\n",
      "Epoch 3/10\n",
      "163/163 [==============================] - 145s 887ms/step - loss: 0.1666 - accuracy: 0.9362 - val_loss: 0.1737 - val_accuracy: 0.9268\n",
      "Epoch 4/10\n",
      "163/163 [==============================] - 149s 913ms/step - loss: 0.1717 - accuracy: 0.9283 - val_loss: 0.4267 - val_accuracy: 0.6707\n",
      "Epoch 5/10\n",
      "163/163 [==============================] - 148s 905ms/step - loss: 0.1972 - accuracy: 0.9214 - val_loss: 0.2939 - val_accuracy: 0.8354\n",
      "Epoch 6/10\n",
      "163/163 [==============================] - 148s 906ms/step - loss: 0.1539 - accuracy: 0.9410 - val_loss: 0.2780 - val_accuracy: 0.9116\n",
      "Epoch 7/10\n",
      "163/163 [==============================] - 147s 901ms/step - loss: 0.1645 - accuracy: 0.9410 - val_loss: 0.2017 - val_accuracy: 0.9253\n",
      "Epoch 8/10\n",
      "163/163 [==============================] - 147s 899ms/step - loss: 0.1730 - accuracy: 0.9367 - val_loss: 0.2513 - val_accuracy: 0.9177\n",
      "Epoch 9/10\n",
      "163/163 [==============================] - 147s 900ms/step - loss: 0.2162 - accuracy: 0.9172 - val_loss: 0.2135 - val_accuracy: 0.9116\n",
      "Epoch 10/10\n",
      "163/163 [==============================] - 147s 900ms/step - loss: 0.1559 - accuracy: 0.9419 - val_loss: 0.4522 - val_accuracy: 0.9162\n",
      "\n",
      "\n",
      "100\n",
      "Epoch 1/10\n",
      "163/163 [==============================] - 149s 901ms/step - loss: 2.1232 - accuracy: 0.8819 - val_loss: 0.2205 - val_accuracy: 0.9055\n",
      "Epoch 2/10\n",
      "163/163 [==============================] - 146s 895ms/step - loss: 0.2345 - accuracy: 0.9149 - val_loss: 0.2914 - val_accuracy: 0.8521\n",
      "Epoch 3/10\n",
      "163/163 [==============================] - 147s 899ms/step - loss: 0.2087 - accuracy: 0.9264 - val_loss: 0.3161 - val_accuracy: 0.8155\n",
      "Epoch 4/10\n",
      "163/163 [==============================] - 148s 908ms/step - loss: 0.2003 - accuracy: 0.9225 - val_loss: 0.3006 - val_accuracy: 0.8521\n",
      "Epoch 5/10\n",
      "163/163 [==============================] - 145s 886ms/step - loss: 0.2363 - accuracy: 0.9061 - val_loss: 0.4013 - val_accuracy: 0.7988\n",
      "Epoch 6/10\n",
      "163/163 [==============================] - 143s 878ms/step - loss: 0.3932 - accuracy: 0.8660 - val_loss: 0.4053 - val_accuracy: 0.8216\n",
      "Epoch 7/10\n",
      "163/163 [==============================] - 142s 869ms/step - loss: 0.4588 - accuracy: 0.8368 - val_loss: 0.5858 - val_accuracy: 0.7348\n",
      "Epoch 8/10\n",
      "163/163 [==============================] - 144s 884ms/step - loss: 0.5736 - accuracy: 0.7433 - val_loss: 0.5855 - val_accuracy: 0.7348\n",
      "Epoch 9/10\n",
      "163/163 [==============================] - 148s 904ms/step - loss: 0.5639 - accuracy: 0.7688 - val_loss: 0.4932 - val_accuracy: 0.7332\n",
      "Epoch 10/10\n",
      "163/163 [==============================] - 144s 884ms/step - loss: 0.5476 - accuracy: 0.7410 - val_loss: 0.5770 - val_accuracy: 0.7332\n",
      "\n",
      "\n",
      "1000\n",
      "Epoch 1/10\n",
      "163/163 [==============================] - 151s 910ms/step - loss: 20.7475 - accuracy: 0.8587 - val_loss: 0.3615 - val_accuracy: 0.8430\n",
      "Epoch 2/10\n",
      "163/163 [==============================] - 148s 907ms/step - loss: 0.2151 - accuracy: 0.9254 - val_loss: 0.5293 - val_accuracy: 0.7774\n",
      "Epoch 3/10\n",
      "163/163 [==============================] - 148s 908ms/step - loss: 0.2036 - accuracy: 0.9275 - val_loss: 0.2382 - val_accuracy: 0.9024\n",
      "Epoch 4/10\n",
      "163/163 [==============================] - 144s 885ms/step - loss: 0.1899 - accuracy: 0.9321 - val_loss: 0.2274 - val_accuracy: 0.9101\n",
      "Epoch 5/10\n",
      "163/163 [==============================] - 146s 896ms/step - loss: 0.3230 - accuracy: 0.8765 - val_loss: 0.6113 - val_accuracy: 0.6220\n",
      "Epoch 6/10\n",
      "163/163 [==============================] - 148s 907ms/step - loss: 0.3733 - accuracy: 0.8275 - val_loss: 0.4039 - val_accuracy: 0.7561\n",
      "Epoch 7/10\n",
      "163/163 [==============================] - 148s 909ms/step - loss: 0.3687 - accuracy: 0.8487 - val_loss: 0.5361 - val_accuracy: 0.6692\n",
      "Epoch 8/10\n",
      "163/163 [==============================] - 151s 922ms/step - loss: 0.4548 - accuracy: 0.8232 - val_loss: 0.3805 - val_accuracy: 0.7805\n",
      "Epoch 9/10\n",
      "163/163 [==============================] - 148s 906ms/step - loss: 0.4159 - accuracy: 0.8133 - val_loss: 0.6102 - val_accuracy: 0.5030\n",
      "Epoch 10/10\n",
      "163/163 [==============================] - 149s 910ms/step - loss: 0.5316 - accuracy: 0.7686 - val_loss: 0.5996 - val_accuracy: 0.7317\n",
      "\n",
      "\n"
     ]
    }
   ],
   "source": [
    "learning_rate = 0.1\n",
    "\n",
    "scores = {}\n",
    "\n",
    "for size in [10, 100, 1000]:\n",
    "    print(size)\n",
    "\n",
    "    model = make_model(learning_rate=learning_rate, size_inner=size)\n",
    "    history = model.fit(train_ds, epochs=10, validation_data=val_ds)\n",
    "    scores[size] = history.history\n",
    "\n",
    "    print()\n",
    "    print()"
   ]
  },
  {
   "cell_type": "code",
   "execution_count": 30,
   "metadata": {},
   "outputs": [
    {
     "data": {
      "text/plain": [
       "<matplotlib.legend.Legend at 0x22c02f76c70>"
      ]
     },
     "execution_count": 30,
     "metadata": {},
     "output_type": "execute_result"
    },
    {
     "data": {
      "image/png": "[encoded data removed]",
      "text/plain": [
       "<Figure size 640x480 with 1 Axes>"
      ]
     },
     "metadata": {},
     "output_type": "display_data"
    }
   ],
   "source": [
    "for size, hist in scores.items():\n",
    "    plt.plot(hist['val_accuracy'], label=('val=%s' % size))\n",
    "\n",
    "plt.xticks(np.arange(10))\n",
    "#plt.yticks([0.78, 0.80, 0.82, 0.825, 0.83])\n",
    "plt.legend()"
   ]
  },
  {
   "attachments": {},
   "cell_type": "markdown",
   "metadata": {},
   "source": [
    "Choose 10 for the size"
   ]
  },
  {
   "attachments": {},
   "cell_type": "markdown",
   "metadata": {},
   "source": [
    "## Regularization and Dropout\n",
    "\n",
    "Regularizing by freezing a part of the network\n",
    "Adding dropout to our model\n",
    "Experimenting with different values"
   ]
  },
  {
   "cell_type": "code",
   "execution_count": 35,
   "metadata": {},
   "outputs": [],
   "source": [
    "def make_model(learning_rate=0.1, size_inner=10, droprate=0.5):\n",
    "    base_model = Xception(\n",
    "        weights='imagenet',\n",
    "        include_top=False,\n",
    "        input_shape=(150, 150, 3)\n",
    "    )\n",
    "\n",
    "    base_model.trainable = False\n",
    "\n",
    "    #########################################\n",
    "\n",
    "    inputs = keras.Input(shape=(150, 150, 3))\n",
    "    base = base_model(inputs, training=False)\n",
    "    vectors = keras.layers.GlobalAveragePooling2D()(base)\n",
    "    \n",
    "    inner = keras.layers.Dense(size_inner, activation='relu')(vectors)\n",
    "    drop = keras.layers.Dropout(droprate)(inner)\n",
    "    \n",
    "    outputs = keras.layers.Dense(2)(drop)\n",
    "    \n",
    "    model = keras.Model(inputs, outputs)\n",
    "    \n",
    "    #########################################\n",
    "\n",
    "    optimizer = keras.optimizers.Adam(learning_rate=learning_rate)\n",
    "    loss = keras.losses.CategoricalCrossentropy(from_logits=True)\n",
    "\n",
    "    model.compile(\n",
    "        optimizer=optimizer,\n",
    "        loss=loss,\n",
    "        metrics=['accuracy']\n",
    "    )\n",
    "    \n",
    "    return model"
   ]
  },
  {
   "cell_type": "code",
   "execution_count": 36,
   "metadata": {},
   "outputs": [
    {
     "name": "stdout",
     "output_type": "stream",
     "text": [
      "0.0\n",
      "Epoch 1/10\n",
      "163/163 [==============================] - 156s 944ms/step - loss: 0.5962 - accuracy: 0.7488 - val_loss: 0.5816 - val_accuracy: 0.7317\n",
      "Epoch 2/10\n",
      "163/163 [==============================] - 155s 950ms/step - loss: 0.5737 - accuracy: 0.7429 - val_loss: 0.5822 - val_accuracy: 0.7317\n",
      "Epoch 3/10\n",
      "163/163 [==============================] - 154s 944ms/step - loss: 0.5756 - accuracy: 0.7427 - val_loss: 0.5942 - val_accuracy: 0.7317\n",
      "Epoch 4/10\n",
      "163/163 [==============================] - 153s 936ms/step - loss: 0.5721 - accuracy: 0.7429 - val_loss: 0.5816 - val_accuracy: 0.7317\n",
      "Epoch 5/10\n",
      "163/163 [==============================] - 154s 941ms/step - loss: 0.5725 - accuracy: 0.7429 - val_loss: 0.5816 - val_accuracy: 0.7317\n",
      "Epoch 6/10\n",
      "163/163 [==============================] - 154s 946ms/step - loss: 0.5723 - accuracy: 0.7429 - val_loss: 0.5912 - val_accuracy: 0.7317\n",
      "Epoch 7/10\n",
      "163/163 [==============================] - 153s 935ms/step - loss: 0.5722 - accuracy: 0.7429 - val_loss: 0.5823 - val_accuracy: 0.7317\n",
      "Epoch 8/10\n",
      "163/163 [==============================] - 153s 937ms/step - loss: 0.5742 - accuracy: 0.7429 - val_loss: 0.5825 - val_accuracy: 0.7317\n",
      "Epoch 9/10\n",
      "163/163 [==============================] - 155s 947ms/step - loss: 0.5731 - accuracy: 0.7429 - val_loss: 0.5817 - val_accuracy: 0.7317\n",
      "Epoch 10/10\n",
      "163/163 [==============================] - 150s 918ms/step - loss: 0.5728 - accuracy: 0.7429 - val_loss: 0.5821 - val_accuracy: 0.7317\n",
      "\n",
      "\n",
      "0.2\n",
      "Epoch 1/10\n",
      "163/163 [==============================] - 152s 922ms/step - loss: 0.7801 - accuracy: 0.7379 - val_loss: 0.5816 - val_accuracy: 0.7317\n",
      "Epoch 2/10\n",
      "163/163 [==============================] - 150s 916ms/step - loss: 0.5727 - accuracy: 0.7429 - val_loss: 0.5820 - val_accuracy: 0.7317\n",
      "Epoch 3/10\n",
      "163/163 [==============================] - 151s 923ms/step - loss: 0.5731 - accuracy: 0.7429 - val_loss: 0.5818 - val_accuracy: 0.7317\n",
      "Epoch 4/10\n",
      "163/163 [==============================] - 149s 911ms/step - loss: 0.5723 - accuracy: 0.7429 - val_loss: 0.5817 - val_accuracy: 0.7317\n",
      "Epoch 5/10\n",
      "163/163 [==============================] - 151s 926ms/step - loss: 0.5734 - accuracy: 0.7429 - val_loss: 0.5816 - val_accuracy: 0.7317\n",
      "Epoch 6/10\n",
      "163/163 [==============================] - 150s 917ms/step - loss: 0.5716 - accuracy: 0.7429 - val_loss: 0.5816 - val_accuracy: 0.7317\n",
      "Epoch 7/10\n",
      "163/163 [==============================] - 148s 907ms/step - loss: 0.5755 - accuracy: 0.7429 - val_loss: 0.5823 - val_accuracy: 0.7317\n",
      "Epoch 8/10\n",
      "163/163 [==============================] - 149s 915ms/step - loss: 0.5733 - accuracy: 0.7429 - val_loss: 0.6067 - val_accuracy: 0.7317\n",
      "Epoch 9/10\n",
      "163/163 [==============================] - 151s 927ms/step - loss: 0.5747 - accuracy: 0.7429 - val_loss: 0.5849 - val_accuracy: 0.7317\n",
      "Epoch 10/10\n",
      "163/163 [==============================] - 152s 928ms/step - loss: 0.5760 - accuracy: 0.7429 - val_loss: 0.6016 - val_accuracy: 0.7317\n",
      "\n",
      "\n",
      "0.5\n",
      "Epoch 1/10\n",
      "163/163 [==============================] - 155s 934ms/step - loss: 1.2234 - accuracy: 0.7398 - val_loss: 0.5818 - val_accuracy: 0.7317\n",
      "Epoch 2/10\n",
      "163/163 [==============================] - 152s 930ms/step - loss: 0.5758 - accuracy: 0.7429 - val_loss: 0.5821 - val_accuracy: 0.7317\n",
      "Epoch 3/10\n",
      "163/163 [==============================] - 151s 925ms/step - loss: 0.5721 - accuracy: 0.7429 - val_loss: 0.5815 - val_accuracy: 0.7317\n",
      "Epoch 4/10\n",
      "163/163 [==============================] - 149s 914ms/step - loss: 0.5758 - accuracy: 0.7429 - val_loss: 0.5891 - val_accuracy: 0.7332\n",
      "Epoch 5/10\n",
      "163/163 [==============================] - 150s 917ms/step - loss: 0.5737 - accuracy: 0.7429 - val_loss: 0.5824 - val_accuracy: 0.7317\n",
      "Epoch 6/10\n",
      "163/163 [==============================] - 152s 930ms/step - loss: 0.5734 - accuracy: 0.7429 - val_loss: 0.5814 - val_accuracy: 0.7317\n",
      "Epoch 7/10\n",
      "163/163 [==============================] - 150s 917ms/step - loss: 0.5726 - accuracy: 0.7429 - val_loss: 0.5808 - val_accuracy: 0.7317\n",
      "Epoch 8/10\n",
      "163/163 [==============================] - 151s 923ms/step - loss: 0.5744 - accuracy: 0.7429 - val_loss: 0.5865 - val_accuracy: 0.7332\n",
      "Epoch 9/10\n",
      "163/163 [==============================] - 151s 927ms/step - loss: 0.5723 - accuracy: 0.7429 - val_loss: 0.5809 - val_accuracy: 0.7317\n",
      "Epoch 10/10\n",
      "163/163 [==============================] - 151s 926ms/step - loss: 0.5726 - accuracy: 0.7429 - val_loss: 0.5808 - val_accuracy: 0.7317\n",
      "\n",
      "\n",
      "0.8\n",
      "Epoch 1/10\n",
      "163/163 [==============================] - 152s 916ms/step - loss: 0.6241 - accuracy: 0.7412 - val_loss: 0.5834 - val_accuracy: 0.7317\n",
      "Epoch 2/10\n",
      "163/163 [==============================] - 147s 903ms/step - loss: 0.5742 - accuracy: 0.7429 - val_loss: 0.5950 - val_accuracy: 0.7317\n",
      "Epoch 3/10\n",
      "163/163 [==============================] - 148s 906ms/step - loss: 0.5725 - accuracy: 0.7429 - val_loss: 0.5833 - val_accuracy: 0.7317\n",
      "Epoch 4/10\n",
      "163/163 [==============================] - 148s 905ms/step - loss: 0.5735 - accuracy: 0.7429 - val_loss: 0.5817 - val_accuracy: 0.7317\n",
      "Epoch 5/10\n",
      "163/163 [==============================] - 147s 903ms/step - loss: 0.5743 - accuracy: 0.7429 - val_loss: 0.5817 - val_accuracy: 0.7317\n",
      "Epoch 6/10\n",
      "163/163 [==============================] - 148s 907ms/step - loss: 0.5730 - accuracy: 0.7429 - val_loss: 0.5931 - val_accuracy: 0.7317\n",
      "Epoch 7/10\n",
      "163/163 [==============================] - 148s 906ms/step - loss: 0.5732 - accuracy: 0.7429 - val_loss: 0.5832 - val_accuracy: 0.7317\n",
      "Epoch 8/10\n",
      "163/163 [==============================] - 148s 904ms/step - loss: 0.5747 - accuracy: 0.7429 - val_loss: 0.5816 - val_accuracy: 0.7317\n",
      "Epoch 9/10\n",
      "163/163 [==============================] - 151s 924ms/step - loss: 0.5729 - accuracy: 0.7429 - val_loss: 0.5841 - val_accuracy: 0.7317\n",
      "Epoch 10/10\n",
      "163/163 [==============================] - 151s 925ms/step - loss: 0.5747 - accuracy: 0.7429 - val_loss: 0.5828 - val_accuracy: 0.7317\n",
      "\n",
      "\n"
     ]
    }
   ],
   "source": [
    "learning_rate = 0.1\n",
    "size = 10\n",
    "\n",
    "scores = {}\n",
    "\n",
    "for droprate in [0.0, 0.2, 0.5, 0.8]:\n",
    "    print(droprate)\n",
    "\n",
    "    model = make_model(\n",
    "        learning_rate=learning_rate,\n",
    "        size_inner=size,\n",
    "        droprate=droprate\n",
    "    )\n",
    "\n",
    "    history = model.fit(train_ds, epochs=10, validation_data=val_ds)\n",
    "    scores[droprate] = history.history\n",
    "\n",
    "    print()\n",
    "    print()"
   ]
  },
  {
   "cell_type": "code",
   "execution_count": 37,
   "metadata": {},
   "outputs": [
    {
     "data": {
      "text/plain": [
       "<matplotlib.legend.Legend at 0x22c02ebe640>"
      ]
     },
     "execution_count": 37,
     "metadata": {},
     "output_type": "execute_result"
    },
    {
     "data": {
      "image/png": "[encoded data removed]",
      "text/plain": [
       "<Figure size 640x480 with 1 Axes>"
      ]
     },
     "metadata": {},
     "output_type": "display_data"
    }
   ],
   "source": [
    "for droprate, hist in scores.items():\n",
    "    plt.plot(hist['val_accuracy'], label=('val=%s' % droprate))\n",
    "\n",
    "plt.ylim(0.8, 0.98)\n",
    "plt.legend()"
   ]
  },
  {
   "attachments": {},
   "cell_type": "markdown",
   "metadata": {},
   "source": [
    "Choose droprate = 0.2"
   ]
  },
  {
   "cell_type": "code",
   "execution_count": 38,
   "metadata": {},
   "outputs": [],
   "source": [
    "def make_model(learning_rate):\n",
    "    base_model = Xception(\n",
    "        weights='imagenet',\n",
    "        input_shape=(150, 150, 3),\n",
    "        include_top=False\n",
    "    )\n",
    "\n",
    "    base_model.trainable = False\n",
    "\n",
    "    inputs = keras.Input(shape=(150, 150, 3))\n",
    "    \n",
    "    base = base_model(inputs, training=False)\n",
    "    vectors = keras.layers.GlobalAveragePooling2D()(base)\n",
    "\n",
    "\n",
    "    outputs = keras.layers.Dense(2)(vectors)\n",
    "\n",
    "    model = keras.Model(inputs, outputs)\n",
    "    \n",
    "\n",
    "    optimizer = keras.optimizers.Adam(learning_rate=learning_rate)\n",
    "\n",
    "    loss = keras.losses.BinaryCrossentropy(from_logits=True)\n",
    "\n",
    "    model.compile(optimizer=optimizer, loss=loss, metrics=['accuracy'])\n",
    "    \n",
    "    \n",
    "    return model"
   ]
  },
  {
   "cell_type": "code",
   "execution_count": 40,
   "metadata": {},
   "outputs": [
    {
     "name": "stdout",
     "output_type": "stream",
     "text": [
      "Epoch 1/20\n",
      "163/163 [==============================] - 151s 911ms/step - loss: 1.5642 - accuracy: 0.9036 - val_loss: 1.3382 - val_accuracy: 0.9085\n",
      "Epoch 2/20\n",
      "163/163 [==============================] - 152s 931ms/step - loss: 1.0889 - accuracy: 0.9252 - val_loss: 1.3903 - val_accuracy: 0.9070\n",
      "Epoch 3/20\n",
      "163/163 [==============================] - 150s 919ms/step - loss: 1.1163 - accuracy: 0.9222 - val_loss: 1.2014 - val_accuracy: 0.9299\n",
      "Epoch 4/20\n",
      "163/163 [==============================] - 149s 916ms/step - loss: 1.0503 - accuracy: 0.9314 - val_loss: 1.4335 - val_accuracy: 0.9177\n",
      "Epoch 5/20\n",
      "163/163 [==============================] - 146s 892ms/step - loss: 1.0795 - accuracy: 0.9354 - val_loss: 1.3460 - val_accuracy: 0.9207\n",
      "Epoch 6/20\n",
      "163/163 [==============================] - 150s 916ms/step - loss: 1.4490 - accuracy: 0.9224 - val_loss: 1.2448 - val_accuracy: 0.9375\n",
      "Epoch 7/20\n",
      "163/163 [==============================] - 149s 911ms/step - loss: 1.5056 - accuracy: 0.9277 - val_loss: 2.0671 - val_accuracy: 0.9268\n",
      "Epoch 8/20\n",
      "163/163 [==============================] - 148s 910ms/step - loss: 1.3528 - accuracy: 0.9383 - val_loss: 1.9924 - val_accuracy: 0.9253\n",
      "Epoch 9/20\n",
      "163/163 [==============================] - 148s 905ms/step - loss: 1.0670 - accuracy: 0.9444 - val_loss: 3.2458 - val_accuracy: 0.9040\n",
      "Epoch 10/20\n",
      "163/163 [==============================] - 148s 904ms/step - loss: 1.3404 - accuracy: 0.9327 - val_loss: 1.2849 - val_accuracy: 0.9360\n",
      "Epoch 11/20\n",
      "163/163 [==============================] - 148s 905ms/step - loss: 1.5227 - accuracy: 0.9310 - val_loss: 1.4880 - val_accuracy: 0.9238\n",
      "Epoch 12/20\n",
      "163/163 [==============================] - 147s 903ms/step - loss: 1.3865 - accuracy: 0.9385 - val_loss: 1.2229 - val_accuracy: 0.9375\n",
      "Epoch 13/20\n",
      "163/163 [==============================] - 147s 903ms/step - loss: 1.1919 - accuracy: 0.9402 - val_loss: 1.7401 - val_accuracy: 0.9390\n",
      "Epoch 14/20\n",
      "163/163 [==============================] - 147s 899ms/step - loss: 1.1195 - accuracy: 0.9408 - val_loss: 3.0710 - val_accuracy: 0.8872\n",
      "Epoch 15/20\n",
      "163/163 [==============================] - 148s 906ms/step - loss: 1.2372 - accuracy: 0.9381 - val_loss: 1.1853 - val_accuracy: 0.9360\n",
      "Epoch 16/20\n",
      "163/163 [==============================] - 148s 905ms/step - loss: 1.7522 - accuracy: 0.9316 - val_loss: 1.8906 - val_accuracy: 0.9329\n",
      "Epoch 17/20\n",
      "163/163 [==============================] - 148s 909ms/step - loss: 1.1966 - accuracy: 0.9429 - val_loss: 2.0221 - val_accuracy: 0.9253\n",
      "Epoch 18/20\n",
      "163/163 [==============================] - 148s 904ms/step - loss: 1.4749 - accuracy: 0.9408 - val_loss: 1.8347 - val_accuracy: 0.9284\n",
      "Epoch 19/20\n",
      "163/163 [==============================] - 147s 903ms/step - loss: 1.4117 - accuracy: 0.9434 - val_loss: 1.8315 - val_accuracy: 0.9223\n",
      "Epoch 20/20\n",
      "163/163 [==============================] - 147s 902ms/step - loss: 1.4135 - accuracy: 0.9408 - val_loss: 3.7602 - val_accuracy: 0.8811\n"
     ]
    }
   ],
   "source": [
    "learning_rate = 0.1\n",
    "#size = 10\n",
    "#droprate = 0.2\n",
    "\n",
    "model = make_model(\n",
    "    learning_rate=learning_rate,\n",
    "    #size_inner=size,\n",
    "    #droprate=droprate\n",
    ")\n",
    "\n",
    "history = model.fit(train_ds, epochs=20, validation_data=val_ds)"
   ]
  },
  {
   "cell_type": "code",
   "execution_count": null,
   "metadata": {},
   "outputs": [],
   "source": []
  },
  {
   "cell_type": "code",
   "execution_count": null,
   "metadata": {},
   "outputs": [],
   "source": []
  },
  {
   "cell_type": "code",
   "execution_count": null,
   "metadata": {},
   "outputs": [],
   "source": []
  },
  {
   "cell_type": "markdown",
   "metadata": {},
   "source": [
    "## Larger model"
   ]
  },
  {
   "cell_type": "code",
   "execution_count": 44,
   "metadata": {},
   "outputs": [],
   "source": [
    "def make_model(learning_rate):\n",
    "    base_model = Xception(\n",
    "        weights='imagenet',\n",
    "        input_shape=(299, 299, 3),\n",
    "        include_top=False\n",
    "    )\n",
    "\n",
    "    base_model.trainable = False\n",
    "\n",
    "    inputs = keras.Input(shape=(299, 299, 3))\n",
    "    \n",
    "    base = base_model(inputs, training=False)\n",
    "    vectors = keras.layers.GlobalAveragePooling2D()(base)\n",
    "\n",
    "\n",
    "    outputs = keras.layers.Dense(2)(vectors)\n",
    "\n",
    "    model = keras.Model(inputs, outputs)\n",
    "    \n",
    "\n",
    "    optimizer = keras.optimizers.Adam(learning_rate=learning_rate)\n",
    "\n",
    "    loss = keras.losses.BinaryCrossentropy(from_logits=True)\n",
    "\n",
    "    model.compile(optimizer=optimizer, loss=loss, metrics=['accuracy'])\n",
    "    \n",
    "    \n",
    "    return model"
   ]
  },
  {
   "cell_type": "code",
   "execution_count": 45,
   "metadata": {},
   "outputs": [
    {
     "name": "stdout",
     "output_type": "stream",
     "text": [
      "Epoch 1/10\n",
      "163/163 [==============================] - 151s 913ms/step - loss: 1.5296 - accuracy: 0.8861 - val_loss: 1.5238 - val_accuracy: 0.9207\n",
      "Epoch 2/10\n",
      "163/163 [==============================] - 149s 914ms/step - loss: 0.9425 - accuracy: 0.9316 - val_loss: 1.5972 - val_accuracy: 0.9146\n",
      "Epoch 3/10\n",
      "163/163 [==============================] - 146s 893ms/step - loss: 1.0062 - accuracy: 0.9250 - val_loss: 1.2150 - val_accuracy: 0.9253\n",
      "Epoch 4/10\n",
      "163/163 [==============================] - 150s 916ms/step - loss: 1.2512 - accuracy: 0.9260 - val_loss: 1.5377 - val_accuracy: 0.9177\n",
      "Epoch 5/10\n",
      "163/163 [==============================] - 149s 913ms/step - loss: 0.9898 - accuracy: 0.9373 - val_loss: 1.2004 - val_accuracy: 0.9405\n",
      "Epoch 6/10\n",
      "163/163 [==============================] - 150s 922ms/step - loss: 1.3038 - accuracy: 0.9293 - val_loss: 1.5676 - val_accuracy: 0.9268\n",
      "Epoch 7/10\n",
      "163/163 [==============================] - 149s 915ms/step - loss: 1.5312 - accuracy: 0.9317 - val_loss: 1.1271 - val_accuracy: 0.9314\n",
      "Epoch 8/10\n",
      "163/163 [==============================] - 149s 913ms/step - loss: 1.7562 - accuracy: 0.9283 - val_loss: 1.9603 - val_accuracy: 0.9238\n",
      "Epoch 9/10\n",
      "163/163 [==============================] - 148s 909ms/step - loss: 1.4083 - accuracy: 0.9344 - val_loss: 1.2851 - val_accuracy: 0.9390\n",
      "Epoch 10/10\n",
      "163/163 [==============================] - 148s 907ms/step - loss: 1.1022 - accuracy: 0.9456 - val_loss: 1.1801 - val_accuracy: 0.9466\n"
     ]
    }
   ],
   "source": [
    "learning_rate = 0.1\n",
    "\n",
    "\n",
    "model = make_model(\n",
    "    learning_rate=learning_rate,\n",
    "\n",
    ")\n",
    "\n",
    "history = model.fit(train_ds, epochs=10, validation_data=val_ds)"
   ]
  }
 ],
 "metadata": {
  "kernelspec": {
   "display_name": "saturn (Python 3)",
   "language": "python",
   "name": "python3"
  },
  "language_info": {
   "codemirror_mode": {
    "name": "ipython",
    "version": 3
   },
   "file_extension": ".py",
   "mimetype": "text/x-python",
   "name": "python",
   "nbconvert_exporter": "python",
   "pygments_lexer": "ipython3",
   "version": "3.9.12 (main, Apr  4 2022, 05:22:27) [MSC v.1916 64 bit (AMD64)]"
  },
  "vscode": {
   "interpreter": {
    "hash": "1c2d89b920c1e7b9a9e96273fbcdef5067d8abfb276a5fc1e1756dea1541fcf8"
   }
  }
 },
 "nbformat": 4,
 "nbformat_minor": 4
}
